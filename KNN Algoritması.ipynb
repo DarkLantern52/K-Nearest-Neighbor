{
 "cells": [
  {
   "cell_type": "code",
   "execution_count": 1,
   "id": "ca43f88c",
   "metadata": {},
   "outputs": [],
   "source": [
    "import pandas as pd\n",
    "import numpy as np"
   ]
  },
  {
   "cell_type": "markdown",
   "id": "bdf15cb9",
   "metadata": {},
   "source": [
    "**1. KISIM**   \n",
    "Elimizde 5 değişkenli 2 sütun ve 2 farklı değişkenli çözüm kümesi var."
   ]
  },
  {
   "cell_type": "code",
   "execution_count": 2,
   "id": "32152baf",
   "metadata": {},
   "outputs": [
    {
     "name": "stdout",
     "output_type": "stream",
     "text": [
      "   Değişken_1  Değişken_2 Çözüm\n",
      "0           4           3     F\n",
      "1           4           7     P\n",
      "2           7           8     P\n",
      "3           5           5     F\n",
      "4           8           8     P\n"
     ]
    }
   ],
   "source": [
    "values={\"Değişken_1\":[4,4,7,5,8],\"Değişken_2\":[3,7,8,5,8],\"Çözüm\":[\"F\",\"P\",\"P\",\"F\",\"P\"]}\n",
    "df=pd.DataFrame(values)\n",
    "print(df)"
   ]
  },
  {
   "cell_type": "code",
   "execution_count": 3,
   "id": "37f191aa",
   "metadata": {},
   "outputs": [],
   "source": [
    "x,y=6,8"
   ]
  },
  {
   "cell_type": "code",
   "execution_count": 4,
   "id": "5a891ee1",
   "metadata": {},
   "outputs": [],
   "source": [
    "def findDistance(col1,col2):\n",
    "    return (((x-col1)**2)+((y-col2)**2))**(1/2)"
   ]
  },
  {
   "cell_type": "code",
   "execution_count": 5,
   "id": "b53b62d7",
   "metadata": {},
   "outputs": [],
   "source": [
    "df[\"Öklid Uzaklığı\"]=findDistance(df[\"Değişken_1\"],df[\"Değişken_2\"])"
   ]
  },
  {
   "cell_type": "code",
   "execution_count": 6,
   "id": "ec55d0eb",
   "metadata": {},
   "outputs": [
    {
     "name": "stdout",
     "output_type": "stream",
     "text": [
      "   Değişken_1  Değişken_2 Çözüm  Öklid Uzaklığı\n",
      "0           4           3     F        5.385165\n",
      "1           4           7     P        2.236068\n",
      "2           7           8     P        1.000000\n",
      "3           5           5     F        3.162278\n",
      "4           8           8     P        2.000000\n"
     ]
    }
   ],
   "source": [
    "print(df)"
   ]
  },
  {
   "cell_type": "code",
   "execution_count": 7,
   "id": "b2e280d9",
   "metadata": {},
   "outputs": [
    {
     "name": "stdout",
     "output_type": "stream",
     "text": [
      "2    1.000000\n",
      "4    2.000000\n",
      "1    2.236068\n",
      "3    3.162278\n",
      "0    5.385165\n",
      "Name: Öklid Uzaklığı, dtype: float64\n"
     ]
    }
   ],
   "source": [
    "print(df[\"Öklid Uzaklığı\"].sort_values())"
   ]
  },
  {
   "cell_type": "code",
   "execution_count": 8,
   "id": "a8e1bfc5",
   "metadata": {},
   "outputs": [
    {
     "name": "stdout",
     "output_type": "stream",
     "text": [
      "   Değişken_1  Değişken_2 Çözüm  Öklid Uzaklığı\n",
      "2           7           8     P        1.000000\n",
      "4           8           8     P        2.000000\n",
      "1           4           7     P        2.236068\n",
      "3           5           5     F        3.162278\n",
      "0           4           3     F        5.385165\n"
     ]
    }
   ],
   "source": [
    "dfSorted = df.sort_values(by=\"Öklid Uzaklığı\")\n",
    "print(dfSorted)"
   ]
  },
  {
   "cell_type": "code",
   "execution_count": 9,
   "id": "f9771931",
   "metadata": {},
   "outputs": [
    {
     "name": "stdout",
     "output_type": "stream",
     "text": [
      "2    P\n",
      "4    P\n",
      "1    P\n",
      "Name: Çözüm, dtype: object\n"
     ]
    }
   ],
   "source": [
    "dfRepeat=dfSorted[\"Çözüm\"].iloc[:3]\n",
    "print(dfRepeat)"
   ]
  },
  {
   "cell_type": "code",
   "execution_count": 10,
   "id": "81307ce9",
   "metadata": {},
   "outputs": [
    {
     "name": "stdout",
     "output_type": "stream",
     "text": [
      "count     3\n",
      "unique    1\n",
      "top       P\n",
      "freq      3\n",
      "Name: Çözüm, dtype: object\n"
     ]
    }
   ],
   "source": [
    "print(dfRepeat.describe())"
   ]
  },
  {
   "cell_type": "code",
   "execution_count": 11,
   "id": "b620c79d",
   "metadata": {},
   "outputs": [
    {
     "name": "stdout",
     "output_type": "stream",
     "text": [
      "P\n"
     ]
    }
   ],
   "source": [
    "listResult=dfRepeat.describe()[2]\n",
    "print(listResult)"
   ]
  },
  {
   "cell_type": "markdown",
   "id": "20acf194",
   "metadata": {},
   "source": [
    "---"
   ]
  },
  {
   "cell_type": "markdown",
   "id": "d08c9a0d",
   "metadata": {},
   "source": [
    "**2. KISIM**  \n",
    "Veri setlerinden birini kullan(Çalıştır.)"
   ]
  },
  {
   "cell_type": "code",
   "execution_count": 12,
   "id": "12452e21",
   "metadata": {},
   "outputs": [
    {
     "name": "stdout",
     "output_type": "stream",
     "text": [
      "   Değişken_1  Değişken_2 Çözüm\n",
      "0           4           3     F\n",
      "1           4           7     P\n",
      "2           7           8     P\n",
      "3           5           5     F\n",
      "4           8           8     P\n"
     ]
    }
   ],
   "source": [
    "#İki değişkenli veri seti. Çözüm kümesinde 2 farklı eleman var.\n",
    "values={\"Değişken_1\":[4,4,7,5,8],\"Değişken_2\":[3,7,8,5,8],\"Çözüm\":[\"F\",\"P\",\"P\",\"F\",\"P\"]}\n",
    "df=pd.DataFrame(values)\n",
    "print(df)"
   ]
  },
  {
   "cell_type": "code",
   "execution_count": 13,
   "id": "873e9158",
   "metadata": {},
   "outputs": [
    {
     "name": "stdout",
     "output_type": "stream",
     "text": [
      "   Değişken_1  Değişken_2  Değişken_3 Çözüm\n",
      "0           4           3           3     F\n",
      "1           4           7           4     P\n",
      "2           7           8           4     R\n",
      "3           5           5           5     F\n",
      "4           8           8           8     P\n"
     ]
    }
   ],
   "source": [
    "#Üç değişkenli çözüm kümesi. Çözüm kümesinde 3 farklı eleman var.\n",
    "values={\"Değişken_1\":[4,4,7,5,8],\"Değişken_2\":[3,7,8,5,8],\"Değişken_3\":[3,4,4,5,8],\"Çözüm\":[\"F\",\"P\",\"R\",\"F\",\"P\"]}\n",
    "df=pd.DataFrame(values)\n",
    "print(df)"
   ]
  },
  {
   "cell_type": "markdown",
   "id": "fe42e5ee",
   "metadata": {},
   "source": [
    "**YAPACAĞIM İŞLEMLER**   \n",
    "**1:** Değişken sayısını bul  \n",
    "**2:** Çözüm sayısını belirle   \n",
    "**3:** Küme sayısını belirle (K=?)  "
   ]
  },
  {
   "cell_type": "markdown",
   "id": "2211879f",
   "metadata": {},
   "source": [
    "---"
   ]
  },
  {
   "cell_type": "code",
   "execution_count": 14,
   "id": "38cb36c7",
   "metadata": {},
   "outputs": [
    {
     "name": "stdout",
     "output_type": "stream",
     "text": [
      "\n",
      "\n",
      "Değişken Sayısı:3\n",
      "Çözüm Sayısı:3\n",
      "Küme Sayısı:4\n",
      "\n",
      "\n"
     ]
    }
   ],
   "source": [
    "numberOfVariable=len(df.columns)-1 #Çözüm sütunu değişken olarak sayılmadığından onu çıkardım.\n",
    "numberOfResult=df[\"Çözüm\"].nunique() #Çözüm kümesindeki eşsiz değerlerin sayısını aldım.\n",
    "numberOfSet=numberOfResult+1 #K olarak çözüm kümesi içindeki farklı elemanların \"sayısının\" 1 fazlasını aldım. Bu sayede K kümesinin en yüksek sonuçlarında birden fazla küme bulunması engellenir.\n",
    "\n",
    "print(\"\"\"\n",
    "\n",
    "Değişken Sayısı:{}\n",
    "Çözüm Sayısı:{}\n",
    "Küme Sayısı:{}\n",
    "\n",
    "\"\"\".format(numberOfVariable,numberOfResult,numberOfSet))"
   ]
  },
  {
   "cell_type": "code",
   "execution_count": 15,
   "id": "5309ca7a",
   "metadata": {
    "scrolled": true
   },
   "outputs": [
    {
     "name": "stdout",
     "output_type": "stream",
     "text": [
      "Sayı giriniz:5\n",
      "Sayı giriniz:4\n",
      "Sayı giriniz:5\n"
     ]
    }
   ],
   "source": [
    "numberOfUser=[x for x in range(numberOfVariable)]    \n",
    "for i in range(numberOfVariable):\n",
    "    numberOfUser[i]=int(input(\"Sayı giriniz:\"))"
   ]
  },
  {
   "cell_type": "code",
   "execution_count": 16,
   "id": "1b7d34f8",
   "metadata": {},
   "outputs": [
    {
     "name": "stdout",
     "output_type": "stream",
     "text": [
      "Girilen sayılar: [5, 4, 5]\n"
     ]
    }
   ],
   "source": [
    "print(\"Girilen sayılar:\",numberOfUser)"
   ]
  },
  {
   "cell_type": "markdown",
   "id": "27a2db51",
   "metadata": {},
   "source": [
    "**4:** Oklid uzaklığını hesapla  "
   ]
  },
  {
   "cell_type": "code",
   "execution_count": 17,
   "id": "e48e6248",
   "metadata": {},
   "outputs": [],
   "source": [
    "def findDistance(colLength,numberOfUser): \n",
    "    listOfTotal=[x for x in df.index] #Öklid sonuçlarının tutulacağı bir liste oluşturdum. Bu liste sonra sütun olarak aktarılacak.\n",
    "    for i in df.index: #DataFrame'deki satırlarda gezmek için yazıldı.\n",
    "        total=0 #Satırın bulunan Öklid uzaklığını tutacak. Her satır bittiğinde 0 olur ve sonuçların doğruluğunu sağlar.\n",
    "        for y in range(colLength): #Hesaplanacak sütunlarda gezen döngü.\n",
    "            total=total+(df[df.columns[y]].loc[i]-numberOfUser[y])**2 #Formüldeki karekök işaretinin iç kısmı burada yapılıyor.\n",
    "        listOfTotal[i]=total**(1/2) #Karekökü alınıyor ve listeye ekleniyor.\n",
    "    return listOfTotal #Liste döndürülür."
   ]
  },
  {
   "cell_type": "code",
   "execution_count": 18,
   "id": "6cd441ea",
   "metadata": {},
   "outputs": [
    {
     "name": "stdout",
     "output_type": "stream",
     "text": [
      "[2.449489742783178, 3.3166247903554, 4.58257569495584, 1.0, 5.830951894845301]\n"
     ]
    }
   ],
   "source": [
    "print(findDistance(numberOfVariable,numberOfUser)) #Sonuçlar ne görmek için yazdım."
   ]
  },
  {
   "cell_type": "code",
   "execution_count": 19,
   "id": "d626b63d",
   "metadata": {},
   "outputs": [
    {
     "name": "stdout",
     "output_type": "stream",
     "text": [
      "   Değişken_1  Değişken_2  Değişken_3 Çözüm  Öklid Uzaklığı\n",
      "0           4           3           3     F        2.449490\n",
      "1           4           7           4     P        3.316625\n",
      "2           7           8           4     R        4.582576\n",
      "3           5           5           5     F        1.000000\n",
      "4           8           8           8     P        5.830952\n"
     ]
    }
   ],
   "source": [
    "df[\"Öklid Uzaklığı\"]=findDistance(numberOfVariable,numberOfUser) # \"Öklid Uzaklığı\" isimli sütuna uzaklıkları aktardım. \n",
    "print(df)"
   ]
  },
  {
   "cell_type": "markdown",
   "id": "350893c2",
   "metadata": {},
   "source": [
    "**5:** Sıralamayı yap   "
   ]
  },
  {
   "cell_type": "code",
   "execution_count": 20,
   "id": "9946edf1",
   "metadata": {},
   "outputs": [
    {
     "name": "stdout",
     "output_type": "stream",
     "text": [
      "   Değişken_1  Değişken_2  Değişken_3 Çözüm  Öklid Uzaklığı\n",
      "3           5           5           5     F        1.000000\n",
      "0           4           3           3     F        2.449490\n",
      "1           4           7           4     P        3.316625\n",
      "2           7           8           4     R        4.582576\n",
      "4           8           8           8     P        5.830952\n"
     ]
    }
   ],
   "source": [
    "dfSorted = df.sort_values(by=\"Öklid Uzaklığı\") # K kümesindeki sayı kadar en yüksek değerleri alacağımdan uzaklıkları sıraladım. \n",
    "print(dfSorted)"
   ]
  },
  {
   "cell_type": "code",
   "execution_count": 21,
   "id": "408e64ae",
   "metadata": {},
   "outputs": [
    {
     "name": "stdout",
     "output_type": "stream",
     "text": [
      "3    F\n",
      "0    F\n",
      "1    P\n",
      "2    R\n",
      "Name: Çözüm, dtype: object\n"
     ]
    }
   ],
   "source": [
    "dfRepeat=dfSorted[\"Çözüm\"].iloc[:numberOfSet] # K sayısı kadar elemanı seçtim.\n",
    "print(dfRepeat)"
   ]
  },
  {
   "cell_type": "markdown",
   "id": "a69415b2",
   "metadata": {},
   "source": [
    "**6:** Ait olduğu küme"
   ]
  },
  {
   "cell_type": "code",
   "execution_count": 22,
   "id": "ed4b5d84",
   "metadata": {
    "scrolled": true
   },
   "outputs": [
    {
     "name": "stdout",
     "output_type": "stream",
     "text": [
      "count     4\n",
      "unique    3\n",
      "top       F\n",
      "freq      2\n",
      "Name: Çözüm, dtype: object\n"
     ]
    }
   ],
   "source": [
    "print(dfRepeat.describe()) #Bu metot en çok tekrar eden değerleri döndürdüğünden buradaki 3. satır işime yarayabilir."
   ]
  },
  {
   "cell_type": "code",
   "execution_count": 23,
   "id": "4a0cc539",
   "metadata": {},
   "outputs": [
    {
     "name": "stdout",
     "output_type": "stream",
     "text": [
      "Ait olduğu küme: F\n"
     ]
    }
   ],
   "source": [
    "listResult=dfRepeat.describe()[2]\n",
    "print(\"Ait olduğu küme:\",listResult)"
   ]
  }
 ],
 "metadata": {
  "kernelspec": {
   "display_name": "Python 3 (ipykernel)",
   "language": "python",
   "name": "python3"
  },
  "language_info": {
   "codemirror_mode": {
    "name": "ipython",
    "version": 3
   },
   "file_extension": ".py",
   "mimetype": "text/x-python",
   "name": "python",
   "nbconvert_exporter": "python",
   "pygments_lexer": "ipython3",
   "version": "3.9.13"
  }
 },
 "nbformat": 4,
 "nbformat_minor": 5
}
